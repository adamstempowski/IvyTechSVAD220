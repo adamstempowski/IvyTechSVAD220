{
 "cells": [
  {
   "cell_type": "code",
   "execution_count": 1,
   "id": "d719188a",
   "metadata": {},
   "outputs": [
    {
     "name": "stdout",
     "output_type": "stream",
     "text": [
      "24.0\n",
      "24\n"
     ]
    }
   ],
   "source": [
    "seconds_per_minute = 60\n",
    "\n",
    "minutes_per_hour = 60\n",
    "\n",
    "hours_per_day = 24\n",
    "\n",
    "seconds_per_hour = (seconds_per_minute * minutes_per_hour)\n",
    "\n",
    "seconds_per_day = (seconds_per_hour * hours_per_day)\n",
    "\n",
    "float_point_div = (seconds_per_day/seconds_per_hour)\n",
    "\n",
    "integer_div = (seconds_per_day // seconds_per_hour)\n",
    "\n",
    "print(float_point_div)\n",
    "\n",
    "print(integer_div)\n"
   ]
  },
  {
   "cell_type": "code",
   "execution_count": null,
   "id": "d9fd7127",
   "metadata": {},
   "outputs": [],
   "source": []
  }
 ],
 "metadata": {
  "kernelspec": {
   "display_name": "Python 3 (ipykernel)",
   "language": "python",
   "name": "python3"
  },
  "language_info": {
   "codemirror_mode": {
    "name": "ipython",
    "version": 3
   },
   "file_extension": ".py",
   "mimetype": "text/x-python",
   "name": "python",
   "nbconvert_exporter": "python",
   "pygments_lexer": "ipython3",
   "version": "3.9.12"
  }
 },
 "nbformat": 4,
 "nbformat_minor": 5
}
