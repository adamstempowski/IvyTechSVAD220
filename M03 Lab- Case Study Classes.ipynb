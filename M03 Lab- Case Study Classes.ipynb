{
 "cells": [
  {
   "cell_type": "code",
   "execution_count": 3,
   "id": "649253a0",
   "metadata": {},
   "outputs": [
    {
     "name": "stdout",
     "output_type": "stream",
     "text": [
      "Please enter whether vehicle type.(Car, Truck, Plane, Boat, Broomstick, etc.) : Car\n",
      "Please enter the production year of the vehicle: 2022\n",
      "Please enter the make of the vehicle: Toyota\n",
      "Please enter the model of vehicle: Corolla\n",
      "Please enter the number of doors on the vehicle: 4\n",
      "Please enter the type of roof on vehicle (solid, sun roof, etc.) :sun roof\n",
      "Vehicle Type:  Car\n",
      "Year:  2022\n",
      "Make:  Toyota\n",
      "Model:  Corolla\n",
      "Number of Doors:  4\n",
      "Type of Roof:  sun roof\n"
     ]
    }
   ],
   "source": [
    "#M03 Lab - Case Study: Lists, Functions, and Classes\n",
    "\n",
    "#Adam Stempowski\n",
    "\n",
    "class vehicle():\n",
    "    \n",
    "    pass\n",
    "vehicle.type = ''\n",
    "\n",
    "class automobile:\n",
    "    pass\n",
    "automobile.year = ''\n",
    "automobile.make = ''\n",
    "automobile.model = ''\n",
    "automobile.doors = ''\n",
    "automobile.roof = ''\n",
    "\n",
    "\n",
    "vehicle.type = input('Please enter whether vehicle type.(Car, Truck, Plane, Boat, Broomstick, etc.) : ')\n",
    "automobile.year = input('Please enter the production year of the vehicle: ')\n",
    "automobile.make = input('Please enter the make of the vehicle: ')\n",
    "automobile.model = input('Please enter the model of vehicle: ')\n",
    "automobile.doors = input('Please enter the number of doors on the vehicle: ')\n",
    "automobile.roof = input('Please enter the type of roof on vehicle (solid, sun roof, etc.) :')\n",
    "\n",
    "print('Vehicle Type: ', vehicle.type)\n",
    "print('Year: ', automobile.year)\n",
    "print('Make: ', automobile.make)\n",
    "print('Model: ', automobile.model)\n",
    "print('Number of Doors: ', automobile.doors)\n",
    "print('Type of Roof: ', automobile.roof)\n",
    "\n",
    "\n",
    "\n",
    "\n",
    "\n"
   ]
  },
  {
   "cell_type": "code",
   "execution_count": null,
   "id": "4156478c",
   "metadata": {},
   "outputs": [],
   "source": []
  }
 ],
 "metadata": {
  "kernelspec": {
   "display_name": "Python 3 (ipykernel)",
   "language": "python",
   "name": "python3"
  },
  "language_info": {
   "codemirror_mode": {
    "name": "ipython",
    "version": 3
   },
   "file_extension": ".py",
   "mimetype": "text/x-python",
   "name": "python",
   "nbconvert_exporter": "python",
   "pygments_lexer": "ipython3",
   "version": "3.9.12"
  }
 },
 "nbformat": 4,
 "nbformat_minor": 5
}
