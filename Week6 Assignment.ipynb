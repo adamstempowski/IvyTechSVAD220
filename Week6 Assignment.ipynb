{
 "cells": [
  {
   "cell_type": "code",
   "execution_count": 1,
   "id": "bd0bb40d",
   "metadata": {},
   "outputs": [],
   "source": [
    "#####13.1\n",
    "\n",
    "from datetime import date\n",
    "import sys\n",
    "\n",
    "today = date.today()\n",
    "\n",
    "original_stdout  = sys.stdout\n",
    "\n",
    "with open('today.txt','w') as f:\n",
    "    sys.stdout = f\n",
    "    print(today)\n",
    "    sys.stdout = original_stdout\n",
    "    "
   ]
  },
  {
   "cell_type": "code",
   "execution_count": 3,
   "id": "df7022b4",
   "metadata": {},
   "outputs": [
    {
     "name": "stdout",
     "output_type": "stream",
     "text": [
      "2022-07-19\n",
      "\n"
     ]
    }
   ],
   "source": [
    "#####13.2\n",
    "\n",
    "import datetime\n",
    "\n",
    "text_file = open('today.txt', 'r')\n",
    "\n",
    "global today_string\n",
    "\n",
    "today_string = text_file.read()\n",
    "\n",
    "text_file.close()\n",
    "\n",
    "print(today_string)\n"
   ]
  },
  {
   "cell_type": "code",
   "execution_count": 4,
   "id": "2bc310e5",
   "metadata": {},
   "outputs": [
    {
     "data": {
      "text/plain": [
       "datetime.datetime(2022, 7, 19, 0, 0)"
      ]
     },
     "execution_count": 4,
     "metadata": {},
     "output_type": "execute_result"
    }
   ],
   "source": [
    "#####13.3\n",
    "\n",
    "from dateutil import parser\n",
    "\n",
    "parser.parse(today_string)"
   ]
  },
  {
   "cell_type": "code",
   "execution_count": null,
   "id": "3d341eb1",
   "metadata": {},
   "outputs": [],
   "source": [
    "#####15.1\n",
    "\n",
    "import multiprocessing\n",
    "import time\n",
    "import datetime\n",
    "import zoo\n",
    "\n",
    "def wait1():\n",
    "    time = random.randint(1,5)\n",
    "    print(\"waiting for \"+str(time)+\"seconds\")\n",
    "    time.sleep(time)\n",
    "    print(datetime.datetime.now())\n",
    "    \n",
    "    \n",
    "start = time.time()\n",
    "process1 = zoo.process1()\n",
    "process2 = zoo.process1()\n",
    "process3 = zoo.process3()\n",
    "\n",
    "print(datetime.datetime.now())\n",
    "if __name__ ==\"__main__\":\n",
    "    \n",
    "    p1 = multiprocessing.Process(target=process1)\n",
    "    p2 = multiprocessing.Process(target=process2)\n",
    "    p3 = multiprocessing.Process(target=process3)\n",
    "    \n",
    "    p1.start()\n",
    "    p2.start()\n",
    "    p3.start()\n",
    "    \n",
    "    p1.join()\n",
    "    p2.join()\n",
    "    p3.join()\n",
    "    \n",
    "end - time.time()\n",
    "\n",
    "print(\"It took \" +str(end-start) + \" seconds to complete\")"
   ]
  }
 ],
 "metadata": {
  "kernelspec": {
   "display_name": "Python 3 (ipykernel)",
   "language": "python",
   "name": "python3"
  },
  "language_info": {
   "codemirror_mode": {
    "name": "ipython",
    "version": 3
   },
   "file_extension": ".py",
   "mimetype": "text/x-python",
   "name": "python",
   "nbconvert_exporter": "python",
   "pygments_lexer": "ipython3",
   "version": "3.9.12"
  }
 },
 "nbformat": 4,
 "nbformat_minor": 5
}
