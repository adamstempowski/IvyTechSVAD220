{
 "cells": [
  {
   "cell_type": "code",
   "execution_count": 3,
   "id": "97baff8f",
   "metadata": {},
   "outputs": [
    {
     "name": "stdout",
     "output_type": "stream",
     "text": [
      "Please enter a students Last name, or ZZZ to exitWills\n",
      "Please enter a students first nameDelaney\n",
      "Please enter a students GPA3.15\n",
      "Delaney Wills Did not make any academic lists\n"
     ]
    }
   ],
   "source": [
    "# M02 Lab - Case Study If...Else and While\n",
    "# Adam Stempowski\n",
    "# 6/18/2022\n",
    "# SDEV 220\n",
    "\n",
    "\n",
    "\n",
    "#Write a python app that will accept student names and GPAs and test if the student qualifies\n",
    "# for either the Dean's list or the Honor Roll. App has to:\n",
    "    # Ask for and accept student's last name\n",
    "    # Quit processing student records if the last name entered is 'ZZZ'\n",
    "    # Ask for and accept a students first name\n",
    "    # Ask for and accept student's GPA as a float.\n",
    "    # Test if the student's GPA is >=3.5, and if so, print that the student has made the deans list.\n",
    "    # Test if the students gpa is 3.25 or greater, and if so, print that the student has made the honor roll\n",
    "\n",
    "zzz = False\n",
    "\n",
    "while zzz == False:\n",
    "    LastNameIn = input('Please enter a students Last name, or ZZZ to exit')\n",
    "    if LastNameIn == \"ZZZ\":\n",
    "        zzz = True\n",
    "        break\n",
    "    LastNameStr = str(LastNameIn)\n",
    "    \n",
    "    FirstNameIn = input('Please enter a students first name')\n",
    "    FirstNameStr = str(FirstNameIn)\n",
    "\n",
    "    GPAIn= input('Please enter a students GPA')\n",
    "    GPAFloat = float(GPAIn)\n",
    "\n",
    "    if GPAFloat >=3.5:\n",
    "        print(FirstNameStr, LastNameStr, 'has made the Deans list')\n",
    "    elif 3.25 <= GPAFloat < 3.5:\n",
    "        print(FirstNameStr, LastNameStr, 'has made the Honor Roll')\n",
    "    else:\n",
    "        print(FirstNameStr, LastNameStr, 'did not make any academic lists')\n",
    "    break\n",
    "\n"
   ]
  },
  {
   "cell_type": "code",
   "execution_count": null,
   "id": "ded47738",
   "metadata": {},
   "outputs": [],
   "source": []
  }
 ],
 "metadata": {
  "kernelspec": {
   "display_name": "Python 3 (ipykernel)",
   "language": "python",
   "name": "python3"
  },
  "language_info": {
   "codemirror_mode": {
    "name": "ipython",
    "version": 3
   },
   "file_extension": ".py",
   "mimetype": "text/x-python",
   "name": "python",
   "nbconvert_exporter": "python",
   "pygments_lexer": "ipython3",
   "version": "3.9.12"
  }
 },
 "nbformat": 4,
 "nbformat_minor": 5
}
