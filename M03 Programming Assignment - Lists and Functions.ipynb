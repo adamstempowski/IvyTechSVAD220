{
 "cells": [
  {
   "cell_type": "code",
   "execution_count": null,
   "id": "ef49a1e9",
   "metadata": {},
   "outputs": [],
   "source": [
    "#M03 Programming Assignment\n",
    "\n",
    "#Adam Stempowski"
   ]
  },
  {
   "cell_type": "code",
   "execution_count": 2,
   "id": "c215d9b5",
   "metadata": {},
   "outputs": [],
   "source": [
    "#7.4\n",
    "\n",
    "things = ['mozarella','cinderella','salmonella']"
   ]
  },
  {
   "cell_type": "code",
   "execution_count": 3,
   "id": "04298be8",
   "metadata": {},
   "outputs": [
    {
     "name": "stdout",
     "output_type": "stream",
     "text": [
      "['mozarella', 'Cinderella', 'salmonella']\n"
     ]
    }
   ],
   "source": [
    "#7.5\n",
    "\n",
    "things = ['mozarella','Cinderella','salmonella']\n",
    "\n",
    "print(things)\n",
    "\n",
    "#Yes, capitalizing the item in the list made it print out capitalized."
   ]
  },
  {
   "cell_type": "code",
   "execution_count": 1,
   "id": "21e273af",
   "metadata": {},
   "outputs": [
    {
     "name": "stdout",
     "output_type": "stream",
     "text": [
      "['MOZARELLA', 'Cinderella', 'salmonella']\n"
     ]
    }
   ],
   "source": [
    "#7.6\n",
    "\n",
    "things = ['MOZARELLA','Cinderella','salmonella']\n",
    "\n",
    "print(things)"
   ]
  },
  {
   "cell_type": "code",
   "execution_count": 2,
   "id": "c0250c81",
   "metadata": {},
   "outputs": [
    {
     "name": "stdout",
     "output_type": "stream",
     "text": [
      "['MOZARELLA', 'Cinderella']\n"
     ]
    }
   ],
   "source": [
    "#7.7\n",
    "\n",
    "things = ['MOZARELLA','Cinderella']\n",
    "\n",
    "print(things)"
   ]
  },
  {
   "cell_type": "code",
   "execution_count": 3,
   "id": "ed0be8b6",
   "metadata": {},
   "outputs": [
    {
     "name": "stdout",
     "output_type": "stream",
     "text": [
      "['Harry', 'Ron', 'Hermione']\n"
     ]
    }
   ],
   "source": [
    "#9.1\n",
    "\n",
    "names = ['Harry','Ron','Hermione']\n",
    "\n",
    "def good():\n",
    "    print(names)\n",
    "    pass\n",
    "\n",
    "good()"
   ]
  },
  {
   "cell_type": "code",
   "execution_count": 8,
   "id": "d4622d5b",
   "metadata": {},
   "outputs": [
    {
     "name": "stdout",
     "output_type": "stream",
     "text": [
      "1\n",
      "3\n",
      "5\n",
      "7\n",
      "9\n"
     ]
    }
   ],
   "source": [
    "#9.2\n",
    "odds = []\n",
    "\n",
    "def get_odds():\n",
    "    for i in range(10):\n",
    "        if i % 2 != 0:\n",
    "            print(i)\n",
    "        else:\n",
    "            pass\n",
    "\n",
    "get_odds()\n",
    "            \n"
   ]
  },
  {
   "cell_type": "code",
   "execution_count": null,
   "id": "96ed6209",
   "metadata": {},
   "outputs": [],
   "source": []
  }
 ],
 "metadata": {
  "kernelspec": {
   "display_name": "Python 3 (ipykernel)",
   "language": "python",
   "name": "python3"
  },
  "language_info": {
   "codemirror_mode": {
    "name": "ipython",
    "version": 3
   },
   "file_extension": ".py",
   "mimetype": "text/x-python",
   "name": "python",
   "nbconvert_exporter": "python",
   "pygments_lexer": "ipython3",
   "version": "3.9.12"
  }
 },
 "nbformat": 4,
 "nbformat_minor": 5
}
