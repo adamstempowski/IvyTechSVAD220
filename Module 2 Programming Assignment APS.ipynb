{
 "cells": [
  {
   "cell_type": "code",
   "execution_count": 15,
   "id": "12fc1809",
   "metadata": {},
   "outputs": [
    {
     "name": "stdout",
     "output_type": "stream",
     "text": [
      "Too high\n"
     ]
    }
   ],
   "source": [
    "# Module 2 Things to do\n",
    "\n",
    "# 4.1 #####################################\n",
    "\n",
    "secret = 6\n",
    "\n",
    "guess = 7\n",
    "\n",
    "\n",
    "if guess < secret:\n",
    "    print(\"Too low\")\n",
    "    \n",
    "elif guess > secret:\n",
    "    print(\"Too high\")\n",
    "        \n",
    "elif guess == secret:\n",
    "    print ('just right')\n",
    "    \n",
    "else:\n",
    "    print('just right')\n",
    "    \n",
    "\n",
    "\n",
    "    \n",
    "\n",
    "        "
   ]
  },
  {
   "cell_type": "code",
   "execution_count": 18,
   "id": "ce65d501",
   "metadata": {},
   "outputs": [
    {
     "name": "stdout",
     "output_type": "stream",
     "text": [
      "cherry\n"
     ]
    }
   ],
   "source": [
    "# Module 2 Things to Do\n",
    "\n",
    "# 4.2 ##############################################\n",
    "\n",
    "\n",
    "small = True\n",
    "green = False\n",
    "\n",
    "if small == True and green == True:\n",
    "    print('pea')\n",
    "elif small == True and green == False:\n",
    "    print(\"cherry\")\n",
    "elif small == False and green == True:\n",
    "    print('Watermelon')\n",
    "elif small == False and green == False:\n",
    "    print('pumpkin')\n",
    "        "
   ]
  },
  {
   "cell_type": "code",
   "execution_count": 23,
   "id": "0df2b8d2",
   "metadata": {},
   "outputs": [
    {
     "name": "stdout",
     "output_type": "stream",
     "text": [
      "0\n",
      "1\n",
      "2\n",
      "3\n"
     ]
    }
   ],
   "source": [
    "# Module 2 Things to Do\n",
    "\n",
    "# 6.1 ################################################\n",
    "\n",
    "for x in range(0,4):\n",
    "    print(x)\n",
    "    "
   ]
  },
  {
   "cell_type": "code",
   "execution_count": 27,
   "id": "363abae0",
   "metadata": {},
   "outputs": [
    {
     "name": "stdout",
     "output_type": "stream",
     "text": [
      "Found it!\n"
     ]
    }
   ],
   "source": [
    "# Module 2 Things to Do\n",
    "\n",
    "# 6.2 #################################################\n",
    "\n",
    "guess_me = 7\n",
    "number = 1\n",
    "\n",
    "while number <= guess_me:\n",
    "    if number < guess_me:\n",
    "        print('Too low')\n",
    "        break\n",
    "    elif number == guess_me:\n",
    "        print('Found it!')\n",
    "        break\n",
    "else:\n",
    "    print('Oops!')\n",
    "    \n"
   ]
  },
  {
   "cell_type": "code",
   "execution_count": 35,
   "id": "46aa47e9",
   "metadata": {},
   "outputs": [
    {
     "name": "stdout",
     "output_type": "stream",
     "text": [
      "Too low\n"
     ]
    }
   ],
   "source": [
    "# Module 2 Things to Do\n",
    "\n",
    "# 6.3 ###################################################\n",
    "\n",
    "guess_me = 5\n",
    "number = 4\n",
    "\n",
    "for number in range(10):\n",
    "    if number < guess_me:\n",
    "        print('Too low')\n",
    "        break\n",
    "    elif number == guess_me:\n",
    "        print('found it!')\n",
    "        break\n",
    "else:\n",
    "    print('Oops!')"
   ]
  },
  {
   "cell_type": "code",
   "execution_count": null,
   "id": "50399a75",
   "metadata": {},
   "outputs": [],
   "source": []
  }
 ],
 "metadata": {
  "kernelspec": {
   "display_name": "Python 3 (ipykernel)",
   "language": "python",
   "name": "python3"
  },
  "language_info": {
   "codemirror_mode": {
    "name": "ipython",
    "version": 3
   },
   "file_extension": ".py",
   "mimetype": "text/x-python",
   "name": "python",
   "nbconvert_exporter": "python",
   "pygments_lexer": "ipython3",
   "version": "3.9.12"
  }
 },
 "nbformat": 4,
 "nbformat_minor": 5
}
